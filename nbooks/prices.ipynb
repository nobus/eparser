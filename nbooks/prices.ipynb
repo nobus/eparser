{
 "cells": [
  {
   "cell_type": "code",
   "execution_count": 3,
   "metadata": {},
   "outputs": [
    {
     "data": {
      "text/plain": [
       "{'listing_id': 737236268,\n",
       " 'price': 20,\n",
       " 'url': 'https://www.etsy.com/listing/737236268/coming-in-hot-bracelet-pdf-only?utm_source=eparser&utm_medium=api&utm_campaign=api',\n",
       " 'currency_code': 'USD'}"
      ]
     },
     "execution_count": 3,
     "metadata": {},
     "output_type": "execute_result"
    }
   ],
   "source": [
    "import requests\n",
    "\n",
    "resp = requests.get('http://127.0.0.1:8000/etsy_api/price/')\n",
    "\n",
    "data = resp.json()\n"
   ]
  },
  {
   "cell_type": "code",
   "execution_count": 24,
   "metadata": {},
   "outputs": [],
   "source": [
    "curr = {\n",
    "    'USD': 62.4071,\n",
    "    'EUR': 69.3780,\n",
    "    'GBP': 81.2977,\n",
    "    'HKD': 8.00296,\n",
    "    'SGD': 46.0297,\n",
    "    'SEK': 6.63806,\n",
    "    'NOK': 6.96251,\n",
    "    'JPY': 0.570684,\n",
    "    'AUD': 43.0110,\n",
    "    'CHF': 63.7262,\n",
    "    'CAD': 47.5048,\n",
    "    'DKK': 9.29120,\n",
    "}\n",
    "prices = []\n",
    "\n",
    "for d in data:\n",
    "    currency_code = d.get('currency_code', 'USD')\n",
    "    i = curr.get(currency_code, None)\n",
    "    if i and 'price' in d and d['price']:\n",
    "        price = d['price']*i\n",
    "        prices.append(price)\n",
    "\n",
    "prices.sort()"
   ]
  },
  {
   "cell_type": "code",
   "execution_count": 40,
   "metadata": {},
   "outputs": [
    {
     "data": {
      "image/png": "[encoded data removed]",
      "text/plain": [
       "<Figure size 432x288 with 1 Axes>"
      ]
     },
     "metadata": {
      "needs_background": "light"
     },
     "output_type": "display_data"
    }
   ],
   "source": [
    "import numpy as np\n",
    "import matplotlib.mlab as mlab\n",
    "import matplotlib.pyplot as plt\n",
    "\n",
    "nbins = 100\n",
    "histogram = plt.hist(prices[51000:-120], nbins, log=True)"
   ]
  },
  {
   "cell_type": "code",
   "execution_count": 33,
   "metadata": {},
   "outputs": [
    {
     "data": {
      "text/plain": [
       "763.158"
      ]
     },
     "execution_count": 33,
     "metadata": {},
     "output_type": "execute_result"
    }
   ],
   "source": [
    "prices[10000]"
   ]
  },
  {
   "cell_type": "code",
   "execution_count": null,
   "metadata": {},
   "outputs": [],
   "source": []
  }
 ],
 "metadata": {
  "kernelspec": {
   "display_name": "Python 3",
   "language": "python",
   "name": "python3"
  },
  "language_info": {
   "codemirror_mode": {
    "name": "ipython",
    "version": 3
   },
   "file_extension": ".py",
   "mimetype": "text/x-python",
   "name": "python",
   "nbconvert_exporter": "python",
   "pygments_lexer": "ipython3",
   "version": "3.7.4"
  }
 },
 "nbformat": 4,
 "nbformat_minor": 2
}
